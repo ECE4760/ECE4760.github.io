{
 "cells": [
  {
   "cell_type": "markdown",
   "metadata": {},
   "source": [
    "# Final projects for [ECE 4760/5730](https://ece4760.github.io)\n",
    "\n",
    "This webpage links student-generated webpages describing their final projects for [ECE 4760/5730](https://ece4760.github.io) at Cornell University. Instructed by [V. Hunter Adams](https://vanhunteradams.com)."
   ]
  },
  {
   "cell_type": "markdown",
   "metadata": {},
   "source": [
    "***"
   ]
  },
  {
   "cell_type": "markdown",
   "metadata": {},
   "source": [
    "### YouTube playlist of RP2040 student final projects\n",
    "\n",
    "Please find a link to the YouTube playlist [here](https://www.youtube.com/playlist?list=PLDqMkB5cbBA6AwYC_DElkDStUdOsTuIL7). It is also embedded below.\n",
    "\n",
    "<iframe width=\"560\" height=\"315\" src=\"https://www.youtube.com/embed/videoseries?list=PLDqMkB5cbBA6AwYC_DElkDStUdOsTuIL7\" title=\"YouTube video player\" frameborder=\"0\" allow=\"accelerometer; autoplay; clipboard-write; encrypted-media; gyroscope; picture-in-picture\" allowfullscreen></iframe>"
   ]
  },
  {
   "cell_type": "markdown",
   "metadata": {},
   "source": [
    "### Fall, 2023\n",
    "1. [Gesture-controlled Game](./Fall2023/cdc227_ms2663_vs356/Project%20Introduction.html) ([video demonstration](https://www.youtube.com/watch?v=eWwDzLKzAFY))\n",
    "2. [Automated hydroponics system](./Fall2023/jnh84_lcd49/jnh84_lcd49.html) ([video demonstration](https://www.youtube.com/watch?v=3DqP95uvAP0))\n",
    "3. [RPee2040](./Fall2023/nnb28_vb269/RPee2040.html) ([video demonstration](https://www.youtube.com/watch?v=75KFdw1hYbY&list=PLDqMkB5cbBA6AwYC_DElkDStUdOsTuIL7&t=2s))\n",
    "4. [Microwave system for 2D and 3D imaging](./Fall2023/zl823_kg434/index.html) ([video demonstration](https://www.youtube.com/watch?v=5o7RWTJmXuE))\n",
    "5. [Stickman Ninja game](./Fall2023/av458_dht35_gwl45/index.html) ([video demonstration](https://www.youtube.com/watch?v=Lt3ESErPqRE))\n",
    "6. [Interactive lightsaber](./Fall2023/bg372_jtg239/FinalProjectWebpage.html) ([video demonstration](https://www.youtube.com/watch?v=ZPBNHdnES3U))\n",
    "7. [Pico Barrier Blitz](./Fall2023/cy524_sk2794/cy524_sk2794.html) ([video demonstration](https://www.youtube.com/watch?v=YBhAH4O5zS0))\n",
    "8. [Realtime audio spectrogram analyzer](./Fall2023/hy592_yx623_tl839/index.html) ([video demonstration](https://www.youtube.com/watch?v=C8ed5-WB-MY&t=10s))\n",
    "9. [Pond water simulation](./Fall2023/tic3_mmh257/FinalReport.html)\n",
    "10. [Electromagnet robot](./Fall2023/wf223_hw768/index.html) ([video demonstration](https://www.youtube.com/watch?v=G_COTIjia5Q))\n",
    "11. [Autonomous luggage following system](./Fall2023/yg585_yz2952/yg585_yz2952.html) ([video demonstration](https://www.youtube.com/watch?v=UMxiqASDjy0))\n",
    "12. [Audio tracking with soundar](./Fall2023/app67_dtt34/final.html) ([video demonstration](https://www.youtube.com/watch?v=l8RQH72cvqk))\n",
    "13. [Etch-A-Sketch](./Fall2023/jcs556_sd954_hh759/index.html) ([video demonstration](https://www.youtube.com/watch?v=LVCq2VqcC4U))\n",
    "14. [Piano Tiles 2](./Fall2023/rg764_sa2236_wc556/report.html) ([video demonstration](https://www.youtube.com/watch?v=_98jwv7Dm7Q))\n",
    "15. [Kinetic molecular theory with particles](./Fall2023/mp2235_cc2535/index.html) ([video demonstration](https://www.youtube.com/watch?v=LiEpu315REc))\n",
    "16. [ATARI's Pong Reimagined](./Fall2023/dms489_kw462/FinalProjectAtarisPongReimagined.html) ([video demonstration](https://www.youtube.com/watch?v=Qivx0E62YHA))\n",
    "17. [Air Drums](./Fall2023/ds2392_kx74_ac2839/Air_Drum.html) ([video demonstration](https://www.youtube.com/watch?v=xIBEqJ-K0t0))\n",
    "18. [Who needs a multimeter??](./Fall2023/gyc22_sl2383/Final%20Report.html) ([video demonstration](https://www.youtube.com/watch?v=Qn_pjeTGFGs))\n",
    "19. [16-bit color VGA adapter](./Fall2023/hth27-mw756-ppc49/ECE4760FinalReport.html) ([video demonstration](https://www.youtube.com/watch?v=SXKC_BMqUDY))\n",
    "20. [Computron: The parallel computer of the future (Mandelbrot accelerator)](./Fall2023/ir93_rak277/index.html) ([video demonstration](https://www.youtube.com/watch?v=bqD5AeVnZqc))\n",
    "21. [DJ 2040](./Fall2023/jwt95_mll264_mja283/index.html) ([video demonstration](https://www.youtube.com/watch?v=nPZZXIDhsP4))\n",
    "22. [RP2040 Camera](./Fall2023/jmh469_na325_gjt29/index.html) ([video demonstration](https://www.youtube.com/watch?v=cCiQPnGFKOM))\n",
    "23. [Pi looper](./Fall2023/lw584_xl434_yg298/index.html) ([video demonstration](https://www.youtube.com/watch?v=6CY_t_VryU0&t=4s))\n",
    "24. [Diffusion-Limited Aggregation animator](./Fall2023/nrn25_ayc62_wty5/index.html) ([video demonstration](https://www.youtube.com/watch?v=Pt3g8yomqu4))\n",
    "25. [Wii-like game remote](./Fall2023/sc2484_ges248/index.html) ([video demonstration](https://www.youtube.com/watch?v=2XO9b2mAFro))\n",
    "26. [Gesture-controlled kitchen utensil carosel](./Fall2023/smy48_sal267/overview.html) ([video demonstration](https://www.youtube.com/watch?v=R124vMJPJh4))\n",
    "27. [Driving simulator game](./Fall2023/sq86_dcm288_yk536/index.html) ([video demonstration](https://www.youtube.com/watch?v=KZARjkXnaB0))\n",
    "28. [Space Invaders with a proximity sensor](./Fall2023/tjf87_ss2723/index.html) ([video demonstration](https://www.youtube.com/watch?v=g0m5_1Oc-8U))\n",
    "29. Keyboard to gamepad converter (kept private for patent considerations)\n",
    "30. [3D rendered maze game](./Fall2023/av522_dy245/index.html) ([video demonstration](https://www.youtube.com/watch?v=zHJQyooM-Sg))\n",
    "31. [Digital speech vocoder](./Fall2023/cmm478_ses398/ECE4760FinalReport.html) ([video demonstration](https://www.youtube.com/watch?v=0sKSP2oscaU))\n",
    "32. [Theremin with 3D image](./Fall2023/el549_bl478_ayl48/index.html) ([video demonstration](https://www.youtube.com/watch?v=Qy2WE9b66us))\n",
    "33. [ChatGPT Pico melodies](./Fall2023/elg227_fad28/FinalReport.html) ([video demonstration](https://www.youtube.com/watch?v=t5btpOsuL5g))\n",
    "34. [Tennis for Two (a video game played on an oscilloscope)](./Fall2023/gat73_jrs632/finalReportECE4760.html) ([video demonstration](https://www.youtube.com/watch?v=S_E47ijH6YQ))\n",
    "35. [PID control of a 1D quadcopter](./Fall2023/gb438_dy297_zr86/ece5730_quadcopter.html) ([video demonstration](https://www.youtube.com/watch?v=G1P6WMoC3Is))\n",
    "36. [Drawing robot](./Fall2023/kd496-ma2339-dt538/DrawingBot.html) ([video description](https://www.youtube.com/watch?v=rysG9HqorZY))\n",
    "37. [Christmas caroling muscle machine](./Fall2023/kmz25_see62/kmz25_see62.html) ([video description](https://www.youtube.com/watch?v=M_8KR_ICSG0))\n",
    "38. [Hand conductor](./Fall2023/lsl95_kz85/index.html) ([video description](https://www.youtube.com/watch?v=HCNzZyf06as))\n",
    "39. [Pico says](./Fall2023/ml2226_cca54/index.html) ([video description](https://www.youtube.com/watch?v=BNBXwJf55fs))\n",
    "40. [MIDI input synthesizer](./Fall2023/pbb65/pbb65homepage.html) ([video description](https://www.youtube.com/watch?v=gv6tslaxl0o))\n",
    "41. [Soundweaver](./Fall2023/rdg244_ewz4/index.html) ([video description](https://www.youtube.com/watch?v=427vY8pIdWY))\n",
    "42. [Watermelon game](./Fall2023/yl2924_yl996/index.html) ([video description](https://www.youtube.com/watch?v=ZxyzBawe35w))\n",
    "43. [Gyroscope-controlled labrynth game](./Fall2023/ks977_zl647_yf372/index.html) ([video description](https://www.youtube.com/watch?v=onVuS9nOsp4))\n",
    "44. [RadioChat](./Fall2023/wb273/index.html) ([video description](https://www.youtube.com/watch?v=zv5Eqr0OXQg))"
   ]
  },
  {
   "cell_type": "markdown",
   "metadata": {},
   "source": [
    "### Fall, 2022\n",
    "\n",
    "1. [Persistence of vision LED display](./Fall2022/mmc323-jah569-rm857/index.html) ([video demonstration](https://www.youtube.com/watch?v=vRa5mGe45jk&list=PLDqMkB5cbBA6AwYC_DElkDStUdOsTuIL7&index=1))\n",
    "2. [Recreating the Red Light Green Light doll from Squid Games](./Fall2022/tg382_kaf245/index.html) ([video demonstration](https://www.youtube.com/watch?v=qmjJvgB3ehk&list=PLDqMkB5cbBA6AwYC_DElkDStUdOsTuIL7&index=23))\n",
    "3. [Handwriting recognition](./Fall2022/afp65_mib57_ens57/index.html) ([video demonstration](https://www.youtube.com/watch?v=teCES6Atgzo&list=PLDqMkB5cbBA6AwYC_DElkDStUdOsTuIL7&index=39))\n",
    "4. [Musical chord identifier](./Fall2022/ah677_jjn48_tlc234/index.html) ([video demonstration](https://www.youtube.com/watch?v=JIY8UpBPMSs&list=PLDqMkB5cbBA6AwYC_DElkDStUdOsTuIL7&index=7))\n",
    "5. [Simulating the Microlife, Macrolife, and the Galaxy](./Fall2022/amf349_ahk86_agh93/index.html) ([video demonstration](https://www.youtube.com/watch?v=vJPbM3p8Gx0&list=PLDqMkB5cbBA6AwYC_DElkDStUdOsTuIL7&index=10))\n",
    "6. [Audio spatializer](./Fall2022/bat66_cys37_rjw252/index.html) ([video demonstration](https://www.youtube.com/watch?v=UIxs1jhvUh0&list=PLDqMkB5cbBA6AwYC_DElkDStUdOsTuIL7&index=30))\n",
    "7. [RPiano: a playable MIDI synthesizer](./Fall2022/bm586_snh44/index.html) ([video demonstration](https://www.youtube.com/watch?v=z0CkNf_g0mQ&list=PLDqMkB5cbBA6AwYC_DElkDStUdOsTuIL7&index=5))\n",
    "8. [Jambot](./Fall2022/cwf54_nr346_keb282/index.html) ([video demonstration](https://www.youtube.com/watch?v=kAoxX1GrPYs&list=PLDqMkB5cbBA6AwYC_DElkDStUdOsTuIL7&index=24))\n",
    "9. [Home alert center](./Fall2022/eds228_bb584/index.html) ([video demonstration](https://www.youtube.com/watch?v=KFigU0svLKo&list=PLDqMkB5cbBA6AwYC_DElkDStUdOsTuIL7&index=12))\n",
    "10. [Guppy hunters](./Fall2022/das538_eqy2_yd395/index.html) ([video demonstration](https://www.youtube.com/watch?v=6gdv40kquKY&list=PLDqMkB5cbBA6AwYC_DElkDStUdOsTuIL7&index=26))\n",
    "11. [A whale of a time](./Fall2022/rsb359_ljg227_sk2446/index.html) ([video demonstration](https://www.youtube.com/watch?v=SYovWosy5Rc&list=PLDqMkB5cbBA6AwYC_DElkDStUdOsTuIL7&index=9))\n",
    "12. [License plate recognition system](./Fall2022/hh543_yz483_mkm249/Final.html) ([video demonstration](https://www.youtube.com/watch?v=Hld6fX8YYls&list=PLDqMkB5cbBA6AwYC_DElkDStUdOsTuIL7&index=22))\n",
    "13. [MIDI file generation from microphone input](./Fall2022/jwl266_cds258_rat83/index.html) ([video demonstration](https://www.youtube.com/watch?v=c4soAzSzYtE&list=PLDqMkB5cbBA6AwYC_DElkDStUdOsTuIL7&index=37))\n",
    "14. [Auto-targeting Nerf gun](./Fall2022/ljk74_jwf224/index.html) ([video demonstration](https://www.youtube.com/watch?v=sDSVvzvK2oA&list=PLDqMkB5cbBA6AwYC_DElkDStUdOsTuIL7&index=31))\n",
    "15. [Miniature gaming console](./Fall2022/sl2625_txp2_pr376/index.html) ([video demonstration](https://www.youtube.com/watch?v=6Zwx40LGK5g&list=PLDqMkB5cbBA6AwYC_DElkDStUdOsTuIL7&index=14))\n",
    "16. [Crowd City on Pico](./Fall2022/zh338_zp74/index.html) ([video demonstration](https://www.youtube.com/watch?v=m4_iMseZTsA&list=PLDqMkB5cbBA6AwYC_DElkDStUdOsTuIL7&index=38))\n",
    "17. [Animatronic hand](./Fall2022/zw543_yz2979_hft9/Main.html) ([video demonstration](https://www.youtube.com/watch?v=VCVm2Jst4cQ&list=PLDqMkB5cbBA6AwYC_DElkDStUdOsTuIL7&index=11))\n",
    "18. [West slope landscapes](./Fall2022/zw652_zl599_xl767/index.html) ([video demonstration](https://www.youtube.com/watch?v=ay5PIP1Ork0&list=PLDqMkB5cbBA6AwYC_DElkDStUdOsTuIL7&index=20&t=162s))\n",
    "19. [The self-playing xylophone](./Fall2022/zmc6_kmm477_hwm44/index.html) ([video demonstration](https://www.youtube.com/watch?v=wW3F7tXd-qc&list=PLDqMkB5cbBA6AwYC_DElkDStUdOsTuIL7&index=3))\n",
    "20. [Shepherding game](./Fall2022/yw2464_yc2443/ECE5730_Final_Website.html) ([video demonstration](https://www.youtube.com/watch?v=TYmZ8rEDta4&list=PLDqMkB5cbBA6AwYC_DElkDStUdOsTuIL7&index=19))\n",
    "21. [Dancing LED cube](./Fall2022/yp284_yl2237/index.html) ([video demonstration](https://www.youtube.com/watch?v=3-YB7K_gST4&list=PLDqMkB5cbBA6AwYC_DElkDStUdOsTuIL7&index=25))\n",
    "22. [PicoBoi: a handheld gaming device with GPS](./Fall2022/yc938_srg293/index.html) ([video demonstration](https://www.youtube.com/watch?v=nFhp6VsxkS8&list=PLDqMkB5cbBA6AwYC_DElkDStUdOsTuIL7&index=15))\n",
    "23. [Water particle system animation](./Fall2022/ww474_yy796_yw2359/web.html) ([video demonstration](https://www.youtube.com/watch?v=SucYXxlCSMo&list=PLDqMkB5cbBA6AwYC_DElkDStUdOsTuIL7&index=6))\n",
    "24. [Trash dog](./Fall2022/tl482_yy389_zy278/index.html) ([video demonstration](https://www.youtube.com/watch?v=kw4lOBDWQUU&list=PLDqMkB5cbBA6AwYC_DElkDStUdOsTuIL7&index=21))\n",
    "25. [Digital audio synthesizer](./Fall2022/tc575_rm722_raf269/index.html) ([video demonstration](https://www.youtube.com/watch?v=5SnrapigcxA&list=PLDqMkB5cbBA6AwYC_DElkDStUdOsTuIL7&index=18&t=351s))\n",
    "26. [Playing Minecraft with a recorder](./Fall2022/iaa34_swy6_nrb74/index.html) ([video demonstration](https://www.youtube.com/watch?v=GOPVmcFCy80&list=PLDqMkB5cbBA6AwYC_DElkDStUdOsTuIL7&index=13&t=171s))\n",
    "27. [Retro snake game](./Fall2022/jfd232_oe36_psp43/index.html) ([video demonstration](https://www.youtube.com/watch?v=fWTaJtt8cF0&list=PLDqMkB5cbBA6AwYC_DElkDStUdOsTuIL7&index=35))\n",
    "28. [Spatial audio murder mystery](./Fall2022/mk2592_yw575_asx3/index.html) ([video demonstration](https://www.youtube.com/watch?v=p_wtaCNrdgE&list=PLDqMkB5cbBA6AwYC_DElkDStUdOsTuIL7&index=4))\n",
    "29. [First person shooter aimbot](./Fall2022/jro79_aoa34/index.html) ([video demonstration](https://www.youtube.com/watch?v=QVEiPR61y5Q&list=PLDqMkB5cbBA6AwYC_DElkDStUdOsTuIL7&index=17))\n",
    "30. [Universal infrared remote control](./Fall2022/ocl6_lms445/index.html) ([video demonstration](https://www.youtube.com/watch?v=OaMCaecrE4o&list=PLDqMkB5cbBA6AwYC_DElkDStUdOsTuIL7&index=32))\n",
    "31. [Microphone-based rhythm game](./Fall2022/vk262_mse63/index.html) ([video demonstration](https://www.youtube.com/watch?v=AlHCsWHzeps&list=PLDqMkB5cbBA6AwYC_DElkDStUdOsTuIL7&index=16))\n",
    "32. [The Saga of Steve (a Zelda-inspired video game)](./Fall2022/tts47_ems395_mck65/index.html) ([video demonstration](https://www.youtube.com/watch?v=4r80cfx1C0o&list=PLDqMkB5cbBA6AwYC_DElkDStUdOsTuIL7&index=2))\n",
    "33. [Arcade game console](./Fall2022/zl348_ch682/index.html) ([video demonstration](https://www.youtube.com/watch?v=4Kxxq7x7Mew&list=PLDqMkB5cbBA6AwYC_DElkDStUdOsTuIL7&index=34))\n",
    "34. [Voice controlled machine learning](./Fall2022/tms279_zdh5_adf64/index.html) ([video demonstration](https://www.youtube.com/watch?v=UYZzhFrJK5I&list=PLDqMkB5cbBA6AwYC_DElkDStUdOsTuIL7&index=36&t=119s))\n",
    "35. [Mario-Kart inspired racing game](./Fall2022/sko35_ns594_kg543/index.html) ([video demonstration](https://www.youtube.com/watch?v=Ji4j_eniWiQ&list=PLDqMkB5cbBA6AwYC_DElkDStUdOsTuIL7&index=27&t=2s))\n",
    "36. [Dino jump video game](./Fall2022/lsg84/start.html) ([video demonstration](https://www.youtube.com/watch?v=tM95_JEBvyA&list=PLDqMkB5cbBA6AwYC_DElkDStUdOsTuIL7&index=29))\n",
    "37. [Syyynth hero rhythm game](./Fall2022/spd75_cea57/index.html) ([video demonstration](https://www.youtube.com/watch?v=SYxIqJ6wqH0&list=PLDqMkB5cbBA6AwYC_DElkDStUdOsTuIL7&index=8))\n",
    "38. [Glove-controlled robot hand](./Fall2022/yj253_lh494_cz236/index.html) ([video demonstration](https://www.youtube.com/watch?v=G2LN8rhvrco&list=PLDqMkB5cbBA6AwYC_DElkDStUdOsTuIL7&index=33))\n",
    "39. [Tetris on RP2040](./Fall2022/emg229_cc2698_jcp327/FinalReport.html) ([video demonstration](https://www.youtube.com/watch?v=-ZMKxJcLG8I&list=PLDqMkB5cbBA6AwYC_DElkDStUdOsTuIL7&index=28))"
   ]
  },
  {
   "cell_type": "markdown",
   "metadata": {},
   "source": [
    "### 1999 - 2021\n",
    "\n",
    "Please see [this webpage](https://people.ece.cornell.edu/land/courses/ece4760/FinalProjects/) for ECE 4760 student final projects from 1999-2021."
   ]
  },
  {
   "cell_type": "markdown",
   "metadata": {},
   "source": [
    "***"
   ]
  }
 ],
 "metadata": {
  "kernelspec": {
   "display_name": "Python 3",
   "language": "python",
   "name": "python3"
  },
  "language_info": {
   "codemirror_mode": {
    "name": "ipython",
    "version": 3
   },
   "file_extension": ".py",
   "mimetype": "text/x-python",
   "name": "python",
   "nbconvert_exporter": "python",
   "pygments_lexer": "ipython3",
   "version": "3.8.3"
  }
 },
 "nbformat": 4,
 "nbformat_minor": 4
}
