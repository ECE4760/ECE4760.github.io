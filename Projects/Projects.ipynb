{
 "cells": [
  {
   "cell_type": "markdown",
   "metadata": {},
   "source": [
    "# Final projects for [ECE 4760/5730](https://ece4760.github.io)\n",
    "\n",
    "This webpage links student-generated webpages describing their final projects for [ECE 4760/5730](https://ece4760.github.io) at Cornell University."
   ]
  },
  {
   "cell_type": "markdown",
   "metadata": {},
   "source": [
    "***"
   ]
  },
  {
   "cell_type": "markdown",
   "metadata": {},
   "source": [
    "### YouTube playlist of RP2040 student final projects\n",
    "\n",
    "Please find a link to the YouTube playlist [here](https://www.youtube.com/playlist?list=PLDqMkB5cbBA6AwYC_DElkDStUdOsTuIL7). It is also embedded below.\n",
    "\n",
    "<iframe width=\"560\" height=\"315\" src=\"https://www.youtube.com/embed/videoseries?list=PLDqMkB5cbBA6AwYC_DElkDStUdOsTuIL7\" title=\"YouTube video player\" frameborder=\"0\" allow=\"accelerometer; autoplay; clipboard-write; encrypted-media; gyroscope; picture-in-picture\" allowfullscreen></iframe>"
   ]
  },
  {
   "cell_type": "markdown",
   "metadata": {},
   "source": [
    "### Fall, 2022\n",
    "\n",
    "- [Persistence of vision LED display](./Fall2022/mmc323-jah569-rm857/index.html) ([video demonstration](https://www.youtube.com/watch?v=vRa5mGe45jk&list=PLDqMkB5cbBA6AwYC_DElkDStUdOsTuIL7&index=1))\n",
    "- [Recreating the Red Light Green Light doll from Squid Games](./Fall2022/tg382_kaf245/index.html) ([video demonstration](https://www.youtube.com/watch?v=qmjJvgB3ehk&list=PLDqMkB5cbBA6AwYC_DElkDStUdOsTuIL7&index=23))\n",
    "- [Handwriting recognition](./Fall2022/afp65_mib57_ens57/index.html) ([video demonstration](https://www.youtube.com/watch?v=teCES6Atgzo&list=PLDqMkB5cbBA6AwYC_DElkDStUdOsTuIL7&index=39))\n",
    "- [Musical chord identifier](./Fall2022/ah677_jjn48_tlc234/index.html) ([video demonstration](https://www.youtube.com/watch?v=JIY8UpBPMSs&list=PLDqMkB5cbBA6AwYC_DElkDStUdOsTuIL7&index=7))\n",
    "- [Simulating the Microlife, Macrolife, and the Galaxy](./Fall2022/amf349_ahk86_agh93/index.html) ([video demonstration](https://www.youtube.com/watch?v=vJPbM3p8Gx0&list=PLDqMkB5cbBA6AwYC_DElkDStUdOsTuIL7&index=10))\n",
    "- [Audio spatializer](./Fall2022/bat66_cys37_rjw252/index.html) ([video demonstration](https://www.youtube.com/watch?v=UIxs1jhvUh0&list=PLDqMkB5cbBA6AwYC_DElkDStUdOsTuIL7&index=30))\n",
    "- [RPiano: a playable MIDI synthesizer](./Fall2022/bm586_snh44/index.html) ([video demonstration](https://www.youtube.com/watch?v=z0CkNf_g0mQ&list=PLDqMkB5cbBA6AwYC_DElkDStUdOsTuIL7&index=5))\n",
    "- [Jambot](./Fall2022/cwf54_nr346_keb282/index.html) ([video demonstration](https://www.youtube.com/watch?v=kAoxX1GrPYs&list=PLDqMkB5cbBA6AwYC_DElkDStUdOsTuIL7&index=24))\n",
    "- [Home alert center](./Fall2022/eds228_bb584/index.html) ([video demonstration](https://www.youtube.com/watch?v=KFigU0svLKo&list=PLDqMkB5cbBA6AwYC_DElkDStUdOsTuIL7&index=12))\n",
    "- [Guppy hunters](./Fall2022/das538_eqy2_yd395/index.html) ([video demonstration](https://www.youtube.com/watch?v=6gdv40kquKY&list=PLDqMkB5cbBA6AwYC_DElkDStUdOsTuIL7&index=26))\n",
    "- [A whale of a time](./Fall2022/rsb359_ljg227_sk2446/index.html) ([video demonstration](https://www.youtube.com/watch?v=SYovWosy5Rc&list=PLDqMkB5cbBA6AwYC_DElkDStUdOsTuIL7&index=9))\n",
    "- [License plate recognition system](./Fall2022/hh543_yz483_mkm249/Final.html) ([video demonstration](https://www.youtube.com/watch?v=Hld6fX8YYls&list=PLDqMkB5cbBA6AwYC_DElkDStUdOsTuIL7&index=22))\n",
    "- [MIDI file generation from microphone input](./Fall2022/jwl266_cds258_rat83/index.html) ([video demonstration](https://www.youtube.com/watch?v=c4soAzSzYtE&list=PLDqMkB5cbBA6AwYC_DElkDStUdOsTuIL7&index=37))\n",
    "- [Auto-targeting Nerf gun](./Fall2022/ljk74_jwf224/index.html) ([video demonstration](https://www.youtube.com/watch?v=sDSVvzvK2oA&list=PLDqMkB5cbBA6AwYC_DElkDStUdOsTuIL7&index=31))\n",
    "- [Miniature gaming console](./Fall2022/sl2625_txp2_pr376/index.html) ([video demonstration](https://www.youtube.com/watch?v=6Zwx40LGK5g&list=PLDqMkB5cbBA6AwYC_DElkDStUdOsTuIL7&index=14))\n",
    "- [Crowd City on Pico](./Fall2022/zh338_zp74/index.html) ([video demonstration](https://www.youtube.com/watch?v=m4_iMseZTsA&list=PLDqMkB5cbBA6AwYC_DElkDStUdOsTuIL7&index=38))\n",
    "- [Animatronic hand](./Fall2022/zw543_yz2979_hft9/Main.html) ([video demonstration](https://www.youtube.com/watch?v=VCVm2Jst4cQ&list=PLDqMkB5cbBA6AwYC_DElkDStUdOsTuIL7&index=11))\n",
    "- [West slope landscapes](./Fall2022/zw652_zl599_xl767/index.html) ([video demonstration](https://www.youtube.com/watch?v=ay5PIP1Ork0&list=PLDqMkB5cbBA6AwYC_DElkDStUdOsTuIL7&index=20&t=162s))\n",
    "- [The self-playing xylophone](./Fall2022/zmc6_kmm477_hwm44/index.html) ([video demonstration](https://www.youtube.com/watch?v=wW3F7tXd-qc&list=PLDqMkB5cbBA6AwYC_DElkDStUdOsTuIL7&index=3))\n",
    "- [Shepherding game](./Fall2022/yw2464_yc2443/ECE5730_Final_Website.html) ([video demonstration](https://www.youtube.com/watch?v=TYmZ8rEDta4&list=PLDqMkB5cbBA6AwYC_DElkDStUdOsTuIL7&index=19))\n",
    "- [Dancing LED cube](./Fall2022/yp284_yl2237/index.html) ([video demonstration](https://www.youtube.com/watch?v=3-YB7K_gST4&list=PLDqMkB5cbBA6AwYC_DElkDStUdOsTuIL7&index=25))\n",
    "- [PicoBoi: a handheld gaming device with GPS](./Fall2022/yc938_srg293/index.html) ([video demonstration](https://www.youtube.com/watch?v=nFhp6VsxkS8&list=PLDqMkB5cbBA6AwYC_DElkDStUdOsTuIL7&index=15))\n",
    "- [Water particle system animation](./Fall2022/ww474_yy796_yw2359/web.html) ([video demonstration](https://www.youtube.com/watch?v=SucYXxlCSMo&list=PLDqMkB5cbBA6AwYC_DElkDStUdOsTuIL7&index=6))\n",
    "- [Trash dog](./Fall2022/tl482_yy389_zy278/index.html) ([video demonstration](https://www.youtube.com/watch?v=kw4lOBDWQUU&list=PLDqMkB5cbBA6AwYC_DElkDStUdOsTuIL7&index=21))\n",
    "- [Digital audio synthesizer](./Fall2022/tc575_rm722_raf269/index.html) ([video demonstration](https://www.youtube.com/watch?v=5SnrapigcxA&list=PLDqMkB5cbBA6AwYC_DElkDStUdOsTuIL7&index=18&t=351s))\n",
    "- [Playing Minecraft with a recorder](./Fall2022/iaa34_swy6_nrb74/index.html) ([video demonstration](https://www.youtube.com/watch?v=GOPVmcFCy80&list=PLDqMkB5cbBA6AwYC_DElkDStUdOsTuIL7&index=13&t=171s))\n",
    "- [Retro snake game](./Fall2022/jfd232_oe36_psp43/index.html) ([video demonstration](https://www.youtube.com/watch?v=fWTaJtt8cF0&list=PLDqMkB5cbBA6AwYC_DElkDStUdOsTuIL7&index=35))\n",
    "- [Spatial audio murder mystery](./Fall2022/mk2592_yw575_asx3/index.html) ([video demonstration](https://www.youtube.com/watch?v=p_wtaCNrdgE&list=PLDqMkB5cbBA6AwYC_DElkDStUdOsTuIL7&index=4))\n",
    "- [First person shooter aimbot](./Fall2022/jro79_aoa34/index.html) ([video demonstration](https://www.youtube.com/watch?v=QVEiPR61y5Q&list=PLDqMkB5cbBA6AwYC_DElkDStUdOsTuIL7&index=17))\n",
    "- [Universal infrared remote control](./Fall2022/ocl6_lms445/index.html) ([video demonstration](https://www.youtube.com/watch?v=OaMCaecrE4o&list=PLDqMkB5cbBA6AwYC_DElkDStUdOsTuIL7&index=32))\n",
    "- [Microphone-based rhythm game](./Fall2022/vk262_mse63/index.html) ([video demonstration](https://www.youtube.com/watch?v=AlHCsWHzeps&list=PLDqMkB5cbBA6AwYC_DElkDStUdOsTuIL7&index=16))\n",
    "- [The Saga of Steve (a Zelda-inspired video game)](./Fall2022/tts47_ems395_mck65/index.html) ([video demonstration](https://www.youtube.com/watch?v=4r80cfx1C0o&list=PLDqMkB5cbBA6AwYC_DElkDStUdOsTuIL7&index=2))\n",
    "- [Arcade game console](./Fall2022/zl348_ch682/index.html) ([video demonstration](https://www.youtube.com/watch?v=4Kxxq7x7Mew&list=PLDqMkB5cbBA6AwYC_DElkDStUdOsTuIL7&index=34))\n",
    "- [Voice controlled machine learning](./Fall2022/tms279_zdh5_adf64/index.html) ([video demonstration](https://www.youtube.com/watch?v=UYZzhFrJK5I&list=PLDqMkB5cbBA6AwYC_DElkDStUdOsTuIL7&index=36&t=119s))\n",
    "- [Mario-Kart inspired racing game](./Fall2022/sko35_ns594_kg543/index.html) ([video demonstration](https://www.youtube.com/watch?v=Ji4j_eniWiQ&list=PLDqMkB5cbBA6AwYC_DElkDStUdOsTuIL7&index=27&t=2s))\n",
    "- [Dino jump video game](./Fall2022/lsg84/start.html) ([video demonstration](https://www.youtube.com/watch?v=tM95_JEBvyA&list=PLDqMkB5cbBA6AwYC_DElkDStUdOsTuIL7&index=29))\n",
    "- [Syyynth hero rhythm game](./Fall2022/spd75_cea57/index.html) ([video demonstration](https://www.youtube.com/watch?v=SYxIqJ6wqH0&list=PLDqMkB5cbBA6AwYC_DElkDStUdOsTuIL7&index=8))\n",
    "- [Glove-controlled robot hand](./Fall2022/yj253_lh494_cz236/index.html) ([video demonstration](https://www.youtube.com/watch?v=G2LN8rhvrco&list=PLDqMkB5cbBA6AwYC_DElkDStUdOsTuIL7&index=33))\n",
    "- [Tetris on RP2040](./Fall2022/emg229_cc2698_jcp327/FinalReport.html) ([video demonstration](https://www.youtube.com/watch?v=-ZMKxJcLG8I&list=PLDqMkB5cbBA6AwYC_DElkDStUdOsTuIL7&index=28))"
   ]
  },
  {
   "cell_type": "markdown",
   "metadata": {},
   "source": [
    "### 1999 - 2021\n",
    "\n",
    "Please see [this webpage](https://people.ece.cornell.edu/land/courses/ece4760/FinalProjects/) for ECE 4760 student final projects from 1999-2021."
   ]
  },
  {
   "cell_type": "markdown",
   "metadata": {},
   "source": [
    "***"
   ]
  }
 ],
 "metadata": {
  "kernelspec": {
   "display_name": "Python 3",
   "language": "python",
   "name": "python3"
  },
  "language_info": {
   "codemirror_mode": {
    "name": "ipython",
    "version": 3
   },
   "file_extension": ".py",
   "mimetype": "text/x-python",
   "name": "python",
   "nbconvert_exporter": "python",
   "pygments_lexer": "ipython3",
   "version": "3.8.3"
  }
 },
 "nbformat": 4,
 "nbformat_minor": 4
}
